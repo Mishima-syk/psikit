{
 "cells": [
  {
   "cell_type": "code",
   "execution_count": 1,
   "metadata": {},
   "outputs": [
    {
     "data": {
      "image/png": "[encoded data removed]",
      "text/plain": [
       "<PIL.PngImagePlugin.PngImageFile image mode=RGB size=600x200 at 0x7F96442EFB70>"
      ]
     },
     "execution_count": 1,
     "metadata": {},
     "output_type": "execute_result"
    }
   ],
   "source": [
    "from rdkit import Chem\n",
    "from rdkit.Chem.Draw import IPythonConsole\n",
    "from rdkit.Chem import Draw\n",
    "from psikit import Sapt\n",
    "\n",
    "w1 = Chem.MolFromMolFile('water1.mol', removeHs=False)\n",
    "w2 = Chem.MolFromMolFile('water2.mol', removeHs=False)\n",
    "Draw.MolsToGridImage([w1,w2])"
   ]
  },
  {
   "cell_type": "code",
   "execution_count": 2,
   "metadata": {},
   "outputs": [],
   "source": [
    "sapt = Sapt()"
   ]
  },
  {
   "cell_type": "code",
   "execution_count": 3,
   "metadata": {},
   "outputs": [],
   "source": [
    "sapt.monomer1_from_molfile('water1.mol')\n",
    "sapt.monomer2_from_molfile('water2.mol')\n",
    "sapt.make_dimer()"
   ]
  },
  {
   "cell_type": "code",
   "execution_count": 4,
   "metadata": {},
   "outputs": [
    {
     "name": "stdout",
     "output_type": "stream",
     "text": [
      "\n",
      "Initializing SAPT object...\n",
      "\n",
      "RHF for monomer A finished in 0.55 seconds.\n",
      "RHF for monomer B finished in 0.52 seconds.\n",
      "Building ERI tensor...\n",
      "...built ERI tensor in 3.180 seconds.\n",
      "Size of the ERI tensor is 0.36 GB, 82 basis functions.\n",
      "\n",
      "...finished initializing SAPT object in  4.49 seconds.\n",
      "\n",
      "Starting electrostatics...\n",
      "...electrostatics took a total of  0.17 seconds.\n",
      "\n",
      "Starting exchange...\n",
      "...exchange took a total of  0.63 seconds.\n",
      "\n",
      "Starting dispersion...\n",
      "...dispersion took a total of  8.92 seconds.\n",
      "\n",
      "Starting induction...\n",
      "Ind20,r (A<-B)           -2.95216090 mH       -1.85250753 kcal/mol\n",
      "Ind20,r (A->B)           -1.37852223 mH       -0.86503511 kcal/mol\n",
      "Exch-Ind20,r (A<-B)       1.41545280 mH        0.88820937 kcal/mol\n",
      "Exch-Ind20,r (A->B)       0.88580457 mH        0.55585034 kcal/mol\n",
      "...induction took a total of  15.90 seconds.\n",
      "\n",
      "SAPT0 Results\n",
      "----------------------------------------------------------------------\n",
      "Exch10 (S^2)             10.53844851 mH        6.61297129 kcal/mol\n",
      "Elst10                  -13.02830646 mH       -8.17537956 kcal/mol\n",
      "Disp20                   -3.42996225 mH       -2.15233218 kcal/mol\n",
      "Exch-Disp20               0.61399531 mH        0.38528758 kcal/mol\n",
      "Ind20,r                  -4.33068313 mH       -2.71754264 kcal/mol\n",
      "Exch-Ind20,r              2.30125737 mH        1.44405971 kcal/mol\n",
      "----------------------------------------------------------------------\n",
      "Total SAPT0              -7.33525065 mH       -4.60293580 kcal/mol\n"
     ]
    }
   ],
   "source": [
    "res = sapt.run_sapt()"
   ]
  },
  {
   "cell_type": "code",
   "execution_count": 5,
   "metadata": {},
   "outputs": [
    {
     "name": "stdout",
     "output_type": "stream",
     "text": [
      "(-0.007335250653651768, 0.010538448513184471, -0.013028306455483696, -0.0034299622542766023, 0.0006139953072061937, -0.004330683131344517, 0.0023012573670623832)\n"
     ]
    }
   ],
   "source": [
    "print(res)"
   ]
  },
  {
   "cell_type": "code",
   "execution_count": null,
   "metadata": {},
   "outputs": [],
   "source": []
  }
 ],
 "metadata": {
  "kernelspec": {
   "display_name": "Python 3",
   "language": "python",
   "name": "python3"
  },
  "language_info": {
   "codemirror_mode": {
    "name": "ipython",
    "version": 3
   },
   "file_extension": ".py",
   "mimetype": "text/x-python",
   "name": "python",
   "nbconvert_exporter": "python",
   "pygments_lexer": "ipython3",
   "version": "3.7.3"
  }
 },
 "nbformat": 4,
 "nbformat_minor": 2
}
