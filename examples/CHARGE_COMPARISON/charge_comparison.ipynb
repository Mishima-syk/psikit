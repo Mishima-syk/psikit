{
 "cells": [
  {
   "cell_type": "code",
   "execution_count": 1,
   "metadata": {},
   "outputs": [],
   "source": [
    "import os\n",
    "import sys\n",
    "import pandas as pd\n",
    "import numpy as np\n",
    "from rdkit import Chem\n",
    "from rdkit.Chem.Draw import IPythonConsole\n",
    "sys.path.append('/Users/iwatobipen/develop/chemoenv/psikit/psikit/')"
   ]
  },
  {
   "cell_type": "code",
   "execution_count": 2,
   "metadata": {},
   "outputs": [],
   "source": [
    "from psikit import Psikit"
   ]
  },
  {
   "cell_type": "code",
   "execution_count": 3,
   "metadata": {},
   "outputs": [],
   "source": [
    "pk = Psikit()"
   ]
  },
  {
   "cell_type": "code",
   "execution_count": 4,
   "metadata": {},
   "outputs": [],
   "source": [
    "pk.read_from_smiles('OC(=O)c1cnccc1')"
   ]
  },
  {
   "cell_type": "code",
   "execution_count": 5,
   "metadata": {},
   "outputs": [
    {
     "name": "stdout",
     "output_type": "stream",
     "text": [
      "Optimizer: Optimization complete!\n"
     ]
    },
    {
     "data": {
      "text/plain": [
       "-434.31618866070147"
      ]
     },
     "execution_count": 5,
     "metadata": {},
     "output_type": "execute_result"
    }
   ],
   "source": [
    "pk.optimize()"
   ]
  },
  {
   "cell_type": "code",
   "execution_count": 6,
   "metadata": {},
   "outputs": [
    {
     "data": {
      "image/png": "[encoded data removed]",
      "text/plain": [
       "<rdkit.Chem.rdchem.Mol at 0x113272688>"
      ]
     },
     "execution_count": 6,
     "metadata": {},
     "output_type": "execute_result"
    }
   ],
   "source": [
    "pk.mol"
   ]
  },
  {
   "cell_type": "code",
   "execution_count": 7,
   "metadata": {},
   "outputs": [
    {
     "name": "stdout",
     "output_type": "stream",
     "text": [
      "[-0.58253784  0.69011262 -0.50822101 -0.21638198  0.3090496  -0.58764823\n",
      "  0.35116267 -0.29441912  0.00119611  0.40735602  0.06348114  0.06372305\n",
      "  0.15143447  0.15169252]\n",
      "[-0.60451003  0.82714117 -0.53442304 -0.24069704  0.13815438 -0.54392709\n",
      "  0.1459902  -0.21533841 -0.04066254  0.35929545  0.15532705  0.16754771\n",
      "  0.17394675  0.21215544]\n",
      "[-0.27235014  0.34136197 -0.32165514 -0.12349265  0.00183538 -0.19122938\n",
      "  0.02154698 -0.14202575 -0.0189029   0.22605628  0.10476005  0.11484402\n",
      "  0.11953793  0.13971336]\n"
     ]
    }
   ],
   "source": [
    "#caculate chages\n",
    "print(pk.calc_resp_charges())\n",
    "print(pk.calc_mulliken_charges())\n",
    "print(pk.calc_lowdin_charges())"
   ]
  },
  {
   "cell_type": "code",
   "execution_count": 8,
   "metadata": {},
   "outputs": [],
   "source": [
    "mol = pk.mol\n",
    "atoms = mol.GetAtoms()"
   ]
  },
  {
   "cell_type": "code",
   "execution_count": 9,
   "metadata": {},
   "outputs": [],
   "source": [
    "data = {'Symbol':[atom.GetSymbol() for atom in atoms],\n",
    "        'RESP': [float(atom.GetProp('RESP')) for atom in atoms],\n",
    "        'MULLIKEN': [float(atom.GetProp('MULLIKEN')) for atom in atoms],\n",
    "       'LOWDIN':  [float(atom.GetProp('LOWDIN')) for atom in atoms]}"
   ]
  },
  {
   "cell_type": "code",
   "execution_count": 10,
   "metadata": {},
   "outputs": [],
   "source": [
    "df = pd.DataFrame(data)"
   ]
  },
  {
   "cell_type": "code",
   "execution_count": 11,
   "metadata": {},
   "outputs": [
    {
     "data": {
      "text/html": [
       "<div>\n",
       "<style scoped>\n",
       "    .dataframe tbody tr th:only-of-type {\n",
       "        vertical-align: middle;\n",
       "    }\n",
       "\n",
       "    .dataframe tbody tr th {\n",
       "        vertical-align: top;\n",
       "    }\n",
       "\n",
       "    .dataframe thead th {\n",
       "        text-align: right;\n",
       "    }\n",
       "</style>\n",
       "<table border=\"1\" class=\"dataframe\">\n",
       "  <thead>\n",
       "    <tr style=\"text-align: right;\">\n",
       "      <th></th>\n",
       "      <th>LOWDIN</th>\n",
       "      <th>MULLIKEN</th>\n",
       "      <th>RESP</th>\n",
       "      <th>Symbol</th>\n",
       "    </tr>\n",
       "  </thead>\n",
       "  <tbody>\n",
       "    <tr>\n",
       "      <th>0</th>\n",
       "      <td>-0.272</td>\n",
       "      <td>-0.605</td>\n",
       "      <td>-0.583</td>\n",
       "      <td>O</td>\n",
       "    </tr>\n",
       "    <tr>\n",
       "      <th>1</th>\n",
       "      <td>0.341</td>\n",
       "      <td>0.827</td>\n",
       "      <td>0.690</td>\n",
       "      <td>C</td>\n",
       "    </tr>\n",
       "    <tr>\n",
       "      <th>2</th>\n",
       "      <td>-0.322</td>\n",
       "      <td>-0.534</td>\n",
       "      <td>-0.508</td>\n",
       "      <td>O</td>\n",
       "    </tr>\n",
       "    <tr>\n",
       "      <th>3</th>\n",
       "      <td>-0.123</td>\n",
       "      <td>-0.241</td>\n",
       "      <td>-0.216</td>\n",
       "      <td>C</td>\n",
       "    </tr>\n",
       "    <tr>\n",
       "      <th>4</th>\n",
       "      <td>0.002</td>\n",
       "      <td>0.138</td>\n",
       "      <td>0.309</td>\n",
       "      <td>C</td>\n",
       "    </tr>\n",
       "    <tr>\n",
       "      <th>5</th>\n",
       "      <td>-0.191</td>\n",
       "      <td>-0.544</td>\n",
       "      <td>-0.588</td>\n",
       "      <td>N</td>\n",
       "    </tr>\n",
       "    <tr>\n",
       "      <th>6</th>\n",
       "      <td>0.022</td>\n",
       "      <td>0.146</td>\n",
       "      <td>0.351</td>\n",
       "      <td>C</td>\n",
       "    </tr>\n",
       "    <tr>\n",
       "      <th>7</th>\n",
       "      <td>-0.142</td>\n",
       "      <td>-0.215</td>\n",
       "      <td>-0.294</td>\n",
       "      <td>C</td>\n",
       "    </tr>\n",
       "    <tr>\n",
       "      <th>8</th>\n",
       "      <td>-0.019</td>\n",
       "      <td>-0.041</td>\n",
       "      <td>0.001</td>\n",
       "      <td>C</td>\n",
       "    </tr>\n",
       "    <tr>\n",
       "      <th>9</th>\n",
       "      <td>0.226</td>\n",
       "      <td>0.359</td>\n",
       "      <td>0.407</td>\n",
       "      <td>H</td>\n",
       "    </tr>\n",
       "    <tr>\n",
       "      <th>10</th>\n",
       "      <td>0.105</td>\n",
       "      <td>0.155</td>\n",
       "      <td>0.063</td>\n",
       "      <td>H</td>\n",
       "    </tr>\n",
       "    <tr>\n",
       "      <th>11</th>\n",
       "      <td>0.115</td>\n",
       "      <td>0.168</td>\n",
       "      <td>0.064</td>\n",
       "      <td>H</td>\n",
       "    </tr>\n",
       "    <tr>\n",
       "      <th>12</th>\n",
       "      <td>0.120</td>\n",
       "      <td>0.174</td>\n",
       "      <td>0.151</td>\n",
       "      <td>H</td>\n",
       "    </tr>\n",
       "    <tr>\n",
       "      <th>13</th>\n",
       "      <td>0.140</td>\n",
       "      <td>0.212</td>\n",
       "      <td>0.152</td>\n",
       "      <td>H</td>\n",
       "    </tr>\n",
       "  </tbody>\n",
       "</table>\n",
       "</div>"
      ],
      "text/plain": [
       "    LOWDIN  MULLIKEN   RESP Symbol\n",
       "0   -0.272    -0.605 -0.583      O\n",
       "1    0.341     0.827  0.690      C\n",
       "2   -0.322    -0.534 -0.508      O\n",
       "3   -0.123    -0.241 -0.216      C\n",
       "4    0.002     0.138  0.309      C\n",
       "5   -0.191    -0.544 -0.588      N\n",
       "6    0.022     0.146  0.351      C\n",
       "7   -0.142    -0.215 -0.294      C\n",
       "8   -0.019    -0.041  0.001      C\n",
       "9    0.226     0.359  0.407      H\n",
       "10   0.105     0.155  0.063      H\n",
       "11   0.115     0.168  0.064      H\n",
       "12   0.120     0.174  0.151      H\n",
       "13   0.140     0.212  0.152      H"
      ]
     },
     "execution_count": 11,
     "metadata": {},
     "output_type": "execute_result"
    }
   ],
   "source": [
    "df.round(3)"
   ]
  },
  {
   "cell_type": "code",
   "execution_count": 12,
   "metadata": {},
   "outputs": [],
   "source": [
    "%matplotlib inline\n",
    "import matplotlib.pyplot as plt"
   ]
  },
  {
   "cell_type": "code",
   "execution_count": 13,
   "metadata": {},
   "outputs": [],
   "source": [
    "plt.style.use('ggplot')"
   ]
  },
  {
   "cell_type": "code",
   "execution_count": 14,
   "metadata": {},
   "outputs": [
    {
     "data": {
      "text/plain": [
       "[<matplotlib.lines.Line2D at 0x13bf93940>]"
      ]
     },
     "execution_count": 14,
     "metadata": {},
     "output_type": "execute_result"
    },
    {
     "data": {
      "image/png": "[encoded data removed]",
      "text/plain": [
       "<Figure size 432x288 with 1 Axes>"
      ]
     },
     "metadata": {},
     "output_type": "display_data"
    }
   ],
   "source": [
    "# RESP charge and MULLIKEN charge shows high correlation\n",
    "plt.scatter(df.RESP, df.MULLIKEN)\n",
    "plt.xlabel('RESP')\n",
    "plt.ylabel('MULLIKEN')\n",
    "plt.plot(np.arange(-1.0, 1.0, 0.01), np.arange(-1.0, 1.0, 0.01), c='b')"
   ]
  },
  {
   "cell_type": "code",
   "execution_count": 15,
   "metadata": {},
   "outputs": [
    {
     "data": {
      "text/plain": [
       "[<matplotlib.lines.Line2D at 0x13c0db8d0>]"
      ]
     },
     "execution_count": 15,
     "metadata": {},
     "output_type": "execute_result"
    },
    {
     "data": {
      "image/png": "[encoded data removed]",
      "text/plain": [
       "<Figure size 432x288 with 1 Axes>"
      ]
     },
     "metadata": {},
     "output_type": "display_data"
    }
   ],
   "source": [
    "plt.scatter(df.RESP, df.LOWDIN)\n",
    "plt.xlabel('RESP')\n",
    "plt.ylabel('LOWDIN')\n",
    "plt.plot(np.arange(-1.0, 1.0, 0.01), np.arange(-1.0, 1.0, 0.01), c='b')"
   ]
  },
  {
   "cell_type": "code",
   "execution_count": 16,
   "metadata": {},
   "outputs": [
    {
     "data": {
      "text/plain": [
       "[<matplotlib.lines.Line2D at 0x13c1ef1d0>]"
      ]
     },
     "execution_count": 16,
     "metadata": {},
     "output_type": "execute_result"
    },
    {
     "data": {
      "image/png": "[encoded data removed]",
      "text/plain": [
       "<Figure size 432x288 with 1 Axes>"
      ]
     },
     "metadata": {},
     "output_type": "display_data"
    }
   ],
   "source": [
    "plt.scatter(df.MULLIKEN, df.LOWDIN)\n",
    "plt.xlabel('MULLIKEN')\n",
    "plt.ylabel('LOWDIN')\n",
    "plt.plot(np.arange(-1.0, 1.0, 0.01), np.arange(-1.0, 1.0, 0.01), c='b')"
   ]
  }
 ],
 "metadata": {
  "kernelspec": {
   "display_name": "Python 3",
   "language": "python",
   "name": "python3"
  },
  "language_info": {
   "codemirror_mode": {
    "name": "ipython",
    "version": 3
   },
   "file_extension": ".py",
   "mimetype": "text/x-python",
   "name": "python",
   "nbconvert_exporter": "python",
   "pygments_lexer": "ipython3",
   "version": "3.6.8"
  }
 },
 "nbformat": 4,
 "nbformat_minor": 2
}
