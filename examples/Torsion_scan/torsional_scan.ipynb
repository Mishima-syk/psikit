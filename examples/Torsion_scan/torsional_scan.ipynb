{
 "cells": [
  {
   "cell_type": "code",
   "execution_count": 65,
   "metadata": {
    "collapsed": true
   },
   "outputs": [],
   "source": [
    "%matplotlib inline\n",
    "from rdkit import Chem\n",
    "from rdkit.Chem import rdMolTransforms\n",
    "from rdkit.Chem.Draw import IPythonConsole\n",
    "from psikit import Psikit\n",
    "import numpy as np\n",
    "import seaborn as sns\n",
    "import pandas as pd\n",
    "import warnings\n",
    "warnings.filterwarnings(\"ignore\")"
   ]
  },
  {
   "cell_type": "code",
   "execution_count": 2,
   "metadata": {
    "collapsed": true
   },
   "outputs": [],
   "source": [
    "pk = Psikit()"
   ]
  },
  {
   "cell_type": "code",
   "execution_count": 9,
   "metadata": {
    "collapsed": true
   },
   "outputs": [],
   "source": [
    "pk.read_from_smiles(\"CNS(=O)(=O)CC\")"
   ]
  },
  {
   "cell_type": "code",
   "execution_count": 10,
   "metadata": {},
   "outputs": [
    {
     "name": "stdout",
     "output_type": "stream",
     "text": [
      "Optimizer: Optimization complete!\n"
     ]
    },
    {
     "data": {
      "text/plain": [
       "-711.7748942789913"
      ]
     },
     "execution_count": 10,
     "metadata": {},
     "output_type": "execute_result"
    }
   ],
   "source": [
    "pk.optimize(basis_sets=\"scf/sto-3g\")"
   ]
  },
  {
   "cell_type": "code",
   "execution_count": 11,
   "metadata": {},
   "outputs": [
    {
     "name": "stdout",
     "output_type": "stream",
     "text": [
      "Optimizer: Optimization complete!\n"
     ]
    },
    {
     "data": {
      "text/plain": [
       "-723.0626131232355"
      ]
     },
     "execution_count": 11,
     "metadata": {},
     "output_type": "execute_result"
    }
   ],
   "source": [
    "pk.optimize(basis_sets=\"B3LYP/6-31G*\")"
   ]
  },
  {
   "cell_type": "code",
   "execution_count": 12,
   "metadata": {},
   "outputs": [
    {
     "data": {
      "image/png": "[encoded data removed]",
      "text/plain": [
       "<rdkit.Chem.rdchem.Mol at 0x7f6804111ce0>"
      ]
     },
     "execution_count": 12,
     "metadata": {},
     "output_type": "execute_result"
    }
   ],
   "source": [
    "pk.mol"
   ]
  },
  {
   "cell_type": "code",
   "execution_count": 13,
   "metadata": {},
   "outputs": [
    {
     "data": {
      "text/plain": [
       "['C',\n",
       " 'N',\n",
       " 'S',\n",
       " 'O',\n",
       " 'O',\n",
       " 'C',\n",
       " 'C',\n",
       " 'H',\n",
       " 'H',\n",
       " 'H',\n",
       " 'H',\n",
       " 'H',\n",
       " 'H',\n",
       " 'H',\n",
       " 'H',\n",
       " 'H']"
      ]
     },
     "execution_count": 13,
     "metadata": {},
     "output_type": "execute_result"
    }
   ],
   "source": [
    "[a.GetSymbol() for a in pk.mol.GetAtoms()]"
   ]
  },
  {
   "cell_type": "code",
   "execution_count": 14,
   "metadata": {
    "collapsed": true
   },
   "outputs": [],
   "source": [
    "conformer = pk.mol.GetConformer(0)"
   ]
  },
  {
   "cell_type": "code",
   "execution_count": 26,
   "metadata": {},
   "outputs": [
    {
     "name": "stdout",
     "output_type": "stream",
     "text": [
      "0 -723.056921763491\n",
      "10 -723.0574009035583\n",
      "20 -723.0583845883023\n",
      "30 -723.0595485772963\n",
      "40 -723.0605034078015\n",
      "50 -723.0609938370956\n",
      "60 -723.0608832849458\n",
      "70 -723.0600488840882\n",
      "80 -723.0585385255836\n",
      "90 -723.0567086747076\n",
      "100 -723.0551682176562\n",
      "110 -723.054408816703\n",
      "120 -723.0545318226641\n",
      "130 -723.0554506590202\n",
      "140 -723.0570179572535\n",
      "150 -723.0589412650767\n",
      "160 -723.0607819309749\n",
      "170 -723.0620693038213\n",
      "180 -723.0625640298554\n",
      "190 -723.062178569547\n",
      "200 -723.0611117138934\n",
      "210 -723.0596917366915\n",
      "220 -723.0583669682219\n",
      "230 -723.0574853343633\n",
      "240 -723.0572859520408\n",
      "250 -723.0577599957417\n",
      "260 -723.058744956759\n",
      "270 -723.0599360174974\n",
      "280 -723.0610146943501\n",
      "290 -723.061727957017\n",
      "300 -723.0618940554882\n",
      "310 -723.0614391811523\n",
      "320 -723.0604675894782\n",
      "330 -723.0592105713769\n",
      "340 -723.0579701713469\n",
      "350 -723.0571320334551\n"
     ]
    }
   ],
   "source": [
    "dihedral_energies = []\n",
    "for dihedral_degree in range(0, 360, 10):\n",
    "    rdMolTransforms.SetDihedralDeg(conformer, 3, 2, 5, 6, dihedral_degree)\n",
    "    degy = pk.energy(basis_sets=\"b3lyp/6-31g*\")\n",
    "    print(dihedral_degree, degy)\n",
    "    dihedral_energies.append(degy)"
   ]
  },
  {
   "cell_type": "code",
   "execution_count": 28,
   "metadata": {},
   "outputs": [],
   "source": [
    "de = np.array(dihedral_energies)"
   ]
  },
  {
   "cell_type": "code",
   "execution_count": 67,
   "metadata": {},
   "outputs": [],
   "source": [
    "de_kcal = (de - de.min()) * 627.51 # convert hartree -> kcal/mol"
   ]
  },
  {
   "cell_type": "code",
   "execution_count": 68,
   "metadata": {},
   "outputs": [
    {
     "data": {
      "text/plain": [
       "array([3.54057857, 3.23991338, 2.62264137, 1.89222664, 1.29306094,\n",
       "       0.98531166, 1.05468424, 1.57827912, 2.52604419, 3.67429391,\n",
       "       4.64094611, 5.11747781, 5.04029033, 4.46371133, 3.48021602,\n",
       "       2.27332113, 1.11828487, 0.31044553, 0.        , 0.2418802 ,\n",
       "       0.91134279, 1.80239268, 2.63369815, 3.18693221, 3.31204661,\n",
       "       3.01457945, 2.39650656, 1.64910403, 0.97222352, 0.52464407,\n",
       "       0.42041562, 0.70585381, 1.3155373 , 2.10432873, 2.88269215,\n",
       "       3.40863206])"
      ]
     },
     "execution_count": 68,
     "metadata": {},
     "output_type": "execute_result"
    }
   ],
   "source": [
    "de_kcal"
   ]
  },
  {
   "cell_type": "code",
   "execution_count": 69,
   "metadata": {
    "collapsed": true
   },
   "outputs": [],
   "source": [
    "tps = np.array(range(0, 360, 10))"
   ]
  },
  {
   "cell_type": "code",
   "execution_count": 70,
   "metadata": {},
   "outputs": [],
   "source": [
    "df = pd.DataFrame({\"timepoint\":tps, \"relative_energy\":de_kcal})"
   ]
  },
  {
   "cell_type": "code",
   "execution_count": 71,
   "metadata": {},
   "outputs": [
    {
     "data": {
      "image/png": "[encoded data removed]",
      "text/plain": [
       "<Figure size 1080x360 with 1 Axes>"
      ]
     },
     "metadata": {},
     "output_type": "display_data"
    }
   ],
   "source": [
    "sns.set(rc={\"figure.figsize\":(15,5)})\n",
    "g = sns.pointplot(x=\"timepoint\", y=\"relative_energy\",data=df)"
   ]
  }
 ],
 "metadata": {
  "kernelspec": {
   "display_name": "Python 3",
   "language": "python",
   "name": "python3"
  },
  "language_info": {
   "codemirror_mode": {
    "name": "ipython",
    "version": 3
   },
   "file_extension": ".py",
   "mimetype": "text/x-python",
   "name": "python",
   "nbconvert_exporter": "python",
   "pygments_lexer": "ipython3",
   "version": "3.6.6"
  }
 },
 "nbformat": 4,
 "nbformat_minor": 2
}
